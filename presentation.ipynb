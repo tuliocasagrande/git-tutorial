{
 "cells": [
  {
   "cell_type": "markdown",
   "metadata": {
    "slideshow": {
     "slide_type": "slide"
    }
   },
   "source": [
    "# A Brief Introduction to Git and GitHub\n",
    "\n",
    "![](assets/git-logo.png)\n",
    "\n",
    "<img src=\"assets/GitHub_Logo.png\" alt=\"local VSC\" width=\"300px\"/>"
   ]
  },
  {
   "cell_type": "markdown",
   "metadata": {
    "slideshow": {
     "slide_type": "slide"
    }
   },
   "source": [
    "# Version Control Systems (VCSs)\n",
    "\n",
    "<img src=\"assets/local.png\" alt=\"local VSC\" width=\"500px\"/>\n",
    "\n",
    "Source: https://git-scm.com/book/en/v2/Getting-Started-About-Version-Control"
   ]
  },
  {
   "cell_type": "markdown",
   "metadata": {
    "slideshow": {
     "slide_type": "slide"
    }
   },
   "source": [
    "# It's all about tracking *changes*\n",
    "\n",
    "![version1](assets/version1.png)"
   ]
  },
  {
   "cell_type": "markdown",
   "metadata": {
    "slideshow": {
     "slide_type": "slide"
    }
   },
   "source": [
    "# It's all about tracking *changes*\n",
    "\n",
    "![version2](assets/version2.png)"
   ]
  },
  {
   "cell_type": "markdown",
   "metadata": {
    "slideshow": {
     "slide_type": "slide"
    }
   },
   "source": [
    "# It's all about tracking *changes*\n",
    "\n",
    "![version3](assets/version3.png)"
   ]
  },
  {
   "cell_type": "markdown",
   "metadata": {
    "slideshow": {
     "slide_type": "slide"
    }
   },
   "source": [
    "# How git works\n",
    "\n",
    "![](assets/snapshots.png)\n",
    "\n",
    "Source: https://git-scm.com/book/en/v2/Getting-Started-Git-Basics"
   ]
  },
  {
   "cell_type": "markdown",
   "metadata": {
    "slideshow": {
     "slide_type": "slide"
    }
   },
   "source": [
    "# How git works\n",
    "\n",
    "![](assets/areas.png)\n",
    "\n",
    "Source: https://git-scm.com/book/en/v2/Getting-Started-Git-Basics"
   ]
  },
  {
   "cell_type": "markdown",
   "metadata": {
    "slideshow": {
     "slide_type": "slide"
    }
   },
   "source": [
    "# How to install git\n",
    "\n",
    "Visit: https://git-scm.com/book/en/v2/Getting-Started-Installing-Git\n",
    "![](assets/install-git.png)"
   ]
  },
  {
   "cell_type": "markdown",
   "metadata": {
    "slideshow": {
     "slide_type": "slide"
    }
   },
   "source": [
    "# Getting started\n",
    "\n",
    "- `git init`\n",
    "- `git status`\n",
    "- `git add <pathspec>`\n",
    "- `git commit` or `git commit -m \"Your commit message\"`\n",
    "- `git log`"
   ]
  },
  {
   "cell_type": "markdown",
   "metadata": {
    "slideshow": {
     "slide_type": "slide"
    }
   },
   "source": [
    "# Getting started\n",
    "\n",
    "```\n",
    "git config --global user.name \"John Doe\"\n",
    "git config --global user.email johndoe@example.com\n",
    "```\n",
    "\n",
    "More information: https://git-scm.com/book/en/v2/Getting-Started-First-Time-Git-Setup"
   ]
  },
  {
   "cell_type": "markdown",
   "metadata": {
    "slideshow": {
     "slide_type": "slide"
    }
   },
   "source": [
    "# Distributed workflow\n",
    "\n",
    "![](assets/centralized_workflow.png)"
   ]
  },
  {
   "cell_type": "markdown",
   "metadata": {
    "slideshow": {
     "slide_type": "slide"
    }
   },
   "source": [
    "# GitHub\n",
    "\n",
    "<img src=\"assets/femalecodertocat.png\" alt=\"local VSC\" width=\"500px\"/>"
   ]
  },
  {
   "cell_type": "markdown",
   "metadata": {
    "slideshow": {
     "slide_type": "slide"
    }
   },
   "source": [
    "# More git commands\n",
    "\n",
    "- `git init` or `git clone`\n",
    "- `git status`\n",
    "- `git add <pathspec>`\n",
    "- `git commit` or `git commit -m \"Commit message\"`\n",
    "- `git log`\n",
    "- `git diff`\n",
    "- `git pull`\n",
    "- `git push`\n",
    "- `git checkout <branch>`, `git checkout -- <file>`\n",
    "- `git merge <branch>`\n",
    "- `git stash`, `git stash list`, `git stash pop`, `git stash drop`"
   ]
  },
  {
   "cell_type": "markdown",
   "metadata": {
    "slideshow": {
     "slide_type": "slide"
    }
   },
   "source": [
    "# Lab\n",
    "\n",
    "- Go to https://github.com/tuliocasagrande/git-tutorial"
   ]
  },
  {
   "cell_type": "markdown",
   "metadata": {
    "slideshow": {
     "slide_type": "fragment"
    }
   },
   "source": [
    "- Fork the project"
   ]
  },
  {
   "cell_type": "markdown",
   "metadata": {
    "slideshow": {
     "slide_type": "fragment"
    }
   },
   "source": [
    "- Clone your fork"
   ]
  },
  {
   "cell_type": "markdown",
   "metadata": {
    "slideshow": {
     "slide_type": "fragment"
    }
   },
   "source": [
    "- Add your name to `AUTHORS.md`"
   ]
  },
  {
   "cell_type": "markdown",
   "metadata": {
    "slideshow": {
     "slide_type": "fragment"
    }
   },
   "source": [
    "- `git add AUTHORS.md`"
   ]
  },
  {
   "cell_type": "markdown",
   "metadata": {
    "slideshow": {
     "slide_type": "fragment"
    }
   },
   "source": [
    "- `git commit`"
   ]
  },
  {
   "cell_type": "markdown",
   "metadata": {
    "slideshow": {
     "slide_type": "fragment"
    }
   },
   "source": [
    "- `git push`"
   ]
  },
  {
   "cell_type": "markdown",
   "metadata": {
    "slideshow": {
     "slide_type": "slide"
    }
   },
   "source": [
    "# Best practices\n",
    "\n",
    "- Add `.gitignore`\n",
    "    - Exclude third-party dependencies, configurations, cached and compiled files\n",
    "    - https://gitignore.io\n",
    "- Commit early and often\n",
    "- Each commit should be a single, small, self-contained logical change\n",
    "    - Even if this means committing just one line of code\n",
    "    - Each commit should mark a safe state\n",
    "- Ideal commit message is descriptive yet succinct, max 50 characters\n",
    "    - Written in imperative present tense, should not end with a period\n",
    "    - More information: https://chris.beams.io/posts/git-commit/"
   ]
  },
  {
   "cell_type": "markdown",
   "metadata": {
    "slideshow": {
     "slide_type": "slide"
    }
   },
   "source": [
    "# Working with branches\n",
    "\n",
    "![](assets/Branch-1.png)\n",
    "\n",
    "Source: https://www.atlassian.com/git/tutorials/using-branches/git-merge"
   ]
  },
  {
   "cell_type": "markdown",
   "metadata": {
    "slideshow": {
     "slide_type": "slide"
    }
   },
   "source": [
    "# Working with branches - Merge\n",
    "\n",
    "![](assets/merge.svg)\n",
    "\n",
    "Source: https://www.atlassian.com/git/tutorials/merging-vs-rebasing"
   ]
  },
  {
   "cell_type": "markdown",
   "metadata": {
    "slideshow": {
     "slide_type": "slide"
    }
   },
   "source": [
    "# Working with branches - Rebase\n",
    "\n",
    "![](assets/rebase.svg)\n",
    "\n",
    "Source: https://www.atlassian.com/git/tutorials/merging-vs-rebasing"
   ]
  },
  {
   "cell_type": "markdown",
   "metadata": {
    "slideshow": {
     "slide_type": "slide"
    }
   },
   "source": [
    "# Working with branches\n",
    "\n",
    "- `git merge`\n",
    "    - The good: standard behavior, simple and secure, doesn't rewrite history\n",
    "    - The bad: sometimes adds useless clutter to history\n",
    "- `git rebase`\n",
    "    - The good: rebase can make your history cleaner\n",
    "    - The bad: rewrites commits, changes your commit history\n",
    "    - **Never rebase public branches**\n",
    "- `git merge --squash`\n",
    "    - The good: collapse many ugly partial commits in a single cleaner one\n",
    "    - The bad: rewrites history, again pay attention to public branches\n",
    "\n",
    "\n",
    "More information: https://git-scm.com/book/en/v2/Git-Branching-Rebasing"
   ]
  },
  {
   "cell_type": "markdown",
   "metadata": {
    "slideshow": {
     "slide_type": "slide"
    }
   },
   "source": [
    "# Lab\n",
    "\n",
    "- Open pull request"
   ]
  },
  {
   "cell_type": "markdown",
   "metadata": {
    "slideshow": {
     "slide_type": "fragment"
    }
   },
   "source": [
    "- Wait! Who broke the build?\n",
    "    - https://circleci.com/gh/tuliocasagrande/git-tutorial"
   ]
  },
  {
   "cell_type": "markdown",
   "metadata": {
    "slideshow": {
     "slide_type": "fragment"
    }
   },
   "source": [
    "- `python -m unittest -v test_main.py`"
   ]
  },
  {
   "cell_type": "markdown",
   "metadata": {
    "slideshow": {
     "slide_type": "fragment"
    }
   },
   "source": [
    "- Fix the failing test"
   ]
  },
  {
   "cell_type": "markdown",
   "metadata": {
    "slideshow": {
     "slide_type": "fragment"
    }
   },
   "source": [
    "- Commit and push your fix"
   ]
  },
  {
   "cell_type": "markdown",
   "metadata": {
    "slideshow": {
     "slide_type": "slide"
    }
   },
   "source": [
    "# Further readings\n",
    "\n",
    "- Git Handbook: https://guides.github.com/introduction/git-handbook/\n",
    "\n",
    "- Forking Projects: https://guides.github.com/activities/forking/\n",
    "\n",
    "- Understanding the GitHub Flow: https://guides.github.com/introduction/flow/\n",
    "\n",
    "- Git documentation: https://git-scm.com/doc"
   ]
  }
 ],
 "metadata": {
  "celltoolbar": "Slideshow",
  "kernelspec": {
   "display_name": "Python 3",
   "language": "python",
   "name": "python3"
  },
  "language_info": {
   "codemirror_mode": {
    "name": "ipython",
    "version": 3
   },
   "file_extension": ".py",
   "mimetype": "text/x-python",
   "name": "python",
   "nbconvert_exporter": "python",
   "pygments_lexer": "ipython3",
   "version": "3.6.5"
  }
 },
 "nbformat": 4,
 "nbformat_minor": 2
}
